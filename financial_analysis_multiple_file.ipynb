{
 "cells": [
  {
   "cell_type": "code",
   "execution_count": null,
   "metadata": {},
   "outputs": [],
   "source": [
    "from utils import get_all_file_paths\n",
    "from single_file_processor import load_file\n"
   ]
  },
  {
   "cell_type": "code",
   "execution_count": null,
   "metadata": {},
   "outputs": [],
   "source": [
    "file_paths = get_all_file_paths(r'C:\\Users\\adham\\OneDrive\\Documents\\Personal\\Finance\\Banking\\CIB\\Credit Cards')"
   ]
  },
  {
   "cell_type": "code",
   "execution_count": null,
   "metadata": {},
   "outputs": [],
   "source": [
    "hostname = \"AdhamNourMainPC\"\n",
    "dbname = \"stg_personal_financial_analysis\"\n",
    "uname = \"root\"\n",
    "pwd = \"production_server\""
   ]
  },
  {
   "cell_type": "code",
   "execution_count": null,
   "metadata": {},
   "outputs": [],
   "source": [
    "def process_file(file_path:str):\n",
    "        print(file_path)\n",
    "        load_file(database_name=dbname,username=uname,host_name=hostname,password=pwd,file_path=file_path)\n",
    "\n",
    "# process_file(file_paths[0])\n",
    "\n",
    "for file_path in file_paths:\n",
    "        process_file(file_path)"
   ]
  }
 ],
 "metadata": {
  "kernelspec": {
   "display_name": "Python 3",
   "language": "python",
   "name": "python3"
  },
  "language_info": {
   "codemirror_mode": {
    "name": "ipython",
    "version": 3
   },
   "file_extension": ".py",
   "mimetype": "text/x-python",
   "name": "python",
   "nbconvert_exporter": "python",
   "pygments_lexer": "ipython3",
   "version": "3.12.4"
  }
 },
 "nbformat": 4,
 "nbformat_minor": 2
}
